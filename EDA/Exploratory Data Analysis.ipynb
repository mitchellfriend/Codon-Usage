{
 "cells": [
  {
   "cell_type": "code",
   "execution_count": 1,
   "id": "4ed44cfc-8758-4310-a9c5-30d1b753a2a8",
   "metadata": {},
   "outputs": [],
   "source": [
    "import pandas as pd\n",
    "import numpy as np"
   ]
  },
  {
   "cell_type": "code",
   "execution_count": 98,
   "id": "48e99c8a-44af-47a9-b335-af34631434bd",
   "metadata": {},
   "outputs": [],
   "source": [
    "codon_usage_df = pd.read_csv('G:\\Miniconda Projects\\Codon Usage Data Set\\codon_usage.csv')"
   ]
  },
  {
   "cell_type": "code",
   "execution_count": 99,
   "id": "77a80b1d-5a59-477b-83aa-6f8ae3e6f74e",
   "metadata": {},
   "outputs": [
    {
     "data": {
      "text/plain": [
       "(13028, 69)"
      ]
     },
     "execution_count": 99,
     "metadata": {},
     "output_type": "execute_result"
    }
   ],
   "source": [
    "codon_usage_df.shape"
   ]
  },
  {
   "cell_type": "code",
   "execution_count": 100,
   "id": "ef0194ac-a632-4140-b026-39fb33ce393d",
   "metadata": {},
   "outputs": [
    {
     "data": {
      "text/plain": [
       "[5063, 486, 5063]"
      ]
     },
     "execution_count": 100,
     "metadata": {},
     "output_type": "execute_result"
    }
   ],
   "source": [
    "rows_to_drop = []\n",
    "\n",
    "for i in enumerate(codon_usage_df['UUC']):\n",
    "    try:\n",
    "        if '0' not in i[1]:\n",
    "                rows_to_drop.append(i[0])\n",
    "    except TypeError:\n",
    "                pass\n",
    "        \n",
    "for i in enumerate(codon_usage_df['UUU']):\n",
    "    try:\n",
    "        if '0' not in i[1]:\n",
    "               rows_to_drop.append(i[0])\n",
    "    except TypeError:\n",
    "                pass\n",
    "        \n",
    "rows_to_drop"
   ]
  },
  {
   "cell_type": "code",
   "execution_count": 101,
   "id": "e531bedb-5054-4c19-a61e-d44e97e11064",
   "metadata": {},
   "outputs": [
    {
     "name": "stdout",
     "output_type": "stream",
     "text": [
      "old shape (13028, 69)\n",
      "new shape (13026, 69)\n"
     ]
    }
   ],
   "source": [
    "print(\"old shape\", codon_usage_df.shape)\n",
    "codon_usage_df.drop(codon_usage_df.index[rows_to_drop], inplace=True)\n",
    "print(\"new shape\",codon_usage_df.shape)"
   ]
  },
  {
   "cell_type": "code",
   "execution_count": 89,
   "id": "f6338075-8205-4ca9-9888-6524aea9ce22",
   "metadata": {},
   "outputs": [
    {
     "data": {
      "text/plain": [
       "bacteria         2919\n",
       "mitochondria     2899\n",
       "virus            2831\n",
       "plant            1556\n",
       "invertebrate      933\n",
       "chloroplast       816\n",
       "vertebrate        464\n",
       "bacteriophage     220\n",
       "archaea           126\n",
       "mammal            102\n",
       "primate            83\n",
       "rodent             59\n",
       "plasmid            18\n",
       "Name: Kingdom, dtype: int64"
      ]
     },
     "execution_count": 89,
     "metadata": {},
     "output_type": "execute_result"
    }
   ],
   "source": [
    "codon_usage_df.Kingdom.value_counts()"
   ]
  },
  {
   "cell_type": "code",
   "execution_count": 17,
   "id": "99d3305b-633e-4c84-bd78-ac6e04bfa375",
   "metadata": {},
   "outputs": [
    {
     "data": {
      "text/plain": [
       "bacteria         2920\n",
       "virus            2832\n",
       "plant            2523\n",
       "vertebrate       2077\n",
       "invertebrate     1345\n",
       "mammal            572\n",
       "bacteriophage     220\n",
       "rodent            215\n",
       "primate           180\n",
       "archaea           126\n",
       "plasmid            18\n",
       "Name: Kingdom, dtype: int64"
      ]
     },
     "execution_count": 17,
     "metadata": {},
     "output_type": "execute_result"
    }
   ],
   "source": [
    "#Create Dictionary with full names for kingdom\n",
    "full_name_dict = {'arc':'archaea', 'bct':'bacteria', 'phg':'bacteriophage',\n",
    "                 'plm' :'plasmid', 'pln' :'plant', 'inv' :'invertebrate',\n",
    "                 'vrt' :'vertebrate', 'mam' :'mammal', 'rod' :'rodent',\n",
    "                 'pri' :'primate', 'vrl':'virus'}\n",
    "\n",
    "codon_usage_df = codon_usage_df.replace({'Kingdom':full_name_dict})\n",
    "codon_usage_df.Kingdom.value_counts()"
   ]
  },
  {
   "cell_type": "code",
   "execution_count": 18,
   "id": "3137aa14-ab84-40fe-9b58-2cf6f2125576",
   "metadata": {},
   "outputs": [
    {
     "data": {
      "text/html": [
       "<div>\n",
       "<style scoped>\n",
       "    .dataframe tbody tr th:only-of-type {\n",
       "        vertical-align: middle;\n",
       "    }\n",
       "\n",
       "    .dataframe tbody tr th {\n",
       "        vertical-align: top;\n",
       "    }\n",
       "\n",
       "    .dataframe thead th {\n",
       "        text-align: right;\n",
       "    }\n",
       "</style>\n",
       "<table border=\"1\" class=\"dataframe\">\n",
       "  <thead>\n",
       "    <tr style=\"text-align: right;\">\n",
       "      <th></th>\n",
       "      <th>Mean</th>\n",
       "      <th>Median</th>\n",
       "      <th>Max</th>\n",
       "      <th>Min</th>\n",
       "    </tr>\n",
       "  </thead>\n",
       "  <tbody>\n",
       "    <tr>\n",
       "      <th>archaea</th>\n",
       "      <td>225434</td>\n",
       "      <td>12164</td>\n",
       "      <td>1420978</td>\n",
       "      <td>1050</td>\n",
       "    </tr>\n",
       "    <tr>\n",
       "      <th>bacteria</th>\n",
       "      <td>199353</td>\n",
       "      <td>6674</td>\n",
       "      <td>4100487</td>\n",
       "      <td>1000</td>\n",
       "    </tr>\n",
       "    <tr>\n",
       "      <th>bacteriophage</th>\n",
       "      <td>10251</td>\n",
       "      <td>2379</td>\n",
       "      <td>114247</td>\n",
       "      <td>1008</td>\n",
       "    </tr>\n",
       "    <tr>\n",
       "      <th>invertebrate</th>\n",
       "      <td>51478</td>\n",
       "      <td>3200</td>\n",
       "      <td>21945319</td>\n",
       "      <td>1000</td>\n",
       "    </tr>\n",
       "    <tr>\n",
       "      <th>mammal</th>\n",
       "      <td>19900</td>\n",
       "      <td>2815</td>\n",
       "      <td>5198458</td>\n",
       "      <td>1001</td>\n",
       "    </tr>\n",
       "    <tr>\n",
       "      <th>plant</th>\n",
       "      <td>61513</td>\n",
       "      <td>2360</td>\n",
       "      <td>34132283</td>\n",
       "      <td>1000</td>\n",
       "    </tr>\n",
       "    <tr>\n",
       "      <th>plasmid</th>\n",
       "      <td>12596</td>\n",
       "      <td>14924</td>\n",
       "      <td>28138</td>\n",
       "      <td>1164</td>\n",
       "    </tr>\n",
       "    <tr>\n",
       "      <th>primate</th>\n",
       "      <td>299360</td>\n",
       "      <td>2584</td>\n",
       "      <td>40662582</td>\n",
       "      <td>1025</td>\n",
       "    </tr>\n",
       "    <tr>\n",
       "      <th>rodent</th>\n",
       "      <td>156279</td>\n",
       "      <td>2279</td>\n",
       "      <td>24533776</td>\n",
       "      <td>1009</td>\n",
       "    </tr>\n",
       "    <tr>\n",
       "      <th>vertebrate</th>\n",
       "      <td>14457</td>\n",
       "      <td>2167</td>\n",
       "      <td>8042248</td>\n",
       "      <td>1007</td>\n",
       "    </tr>\n",
       "    <tr>\n",
       "      <th>virus</th>\n",
       "      <td>24992</td>\n",
       "      <td>2842</td>\n",
       "      <td>16473114</td>\n",
       "      <td>1001</td>\n",
       "    </tr>\n",
       "  </tbody>\n",
       "</table>\n",
       "</div>"
      ],
      "text/plain": [
       "                 Mean  Median       Max   Min\n",
       "archaea        225434   12164   1420978  1050\n",
       "bacteria       199353    6674   4100487  1000\n",
       "bacteriophage   10251    2379    114247  1008\n",
       "invertebrate    51478    3200  21945319  1000\n",
       "mammal          19900    2815   5198458  1001\n",
       "plant           61513    2360  34132283  1000\n",
       "plasmid         12596   14924     28138  1164\n",
       "primate        299360    2584  40662582  1025\n",
       "rodent         156279    2279  24533776  1009\n",
       "vertebrate      14457    2167   8042248  1007\n",
       "virus           24992    2842  16473114  1001"
      ]
     },
     "execution_count": 18,
     "metadata": {},
     "output_type": "execute_result"
    }
   ],
   "source": [
    "mean_dict = dict(codon_usage_df.groupby(['Kingdom'])['Ncodons'].agg('mean').round())\n",
    "median_dict = dict(codon_usage_df.groupby(['Kingdom'])['Ncodons'].agg('median').round())\n",
    "max_dict = dict(codon_usage_df.groupby(['Kingdom'])['Ncodons'].agg('max').round())\n",
    "min_dict = dict(codon_usage_df.groupby(['Kingdom'])['Ncodons'].agg('min').round())\n",
    "\n",
    "pd.concat([pd.Series(mean_dict, name='Mean'),\n",
    "           pd.Series(median_dict, name='Median'),\n",
    "           pd.Series(max_dict, name='Max'),\n",
    "           pd.Series(min_dict, name='Min')],\n",
    "           axis=1).astype(int)"
   ]
  },
  {
   "cell_type": "code",
   "execution_count": 19,
   "id": "1791bacf-addf-4263-ac59-992927bb574e",
   "metadata": {},
   "outputs": [],
   "source": [
    "codon_usage_df['Kingdom'] = np.where(codon_usage_df['DNAtype'] == 1, 'mitochondria',\n",
    "                            np.where(codon_usage_df['DNAtype'] == 2, 'chloroplast',\n",
    "                            codon_usage_df['Kingdom']))"
   ]
  },
  {
   "cell_type": "code",
   "execution_count": 20,
   "id": "85ce0c66-0dfb-47ba-9812-ada9cecd69f2",
   "metadata": {},
   "outputs": [
    {
     "data": {
      "text/plain": [
       "bacteria         2920\n",
       "mitochondria     2899\n",
       "virus            2832\n",
       "plant            1556\n",
       "invertebrate      933\n",
       "chloroplast       816\n",
       "vertebrate        464\n",
       "bacteriophage     220\n",
       "archaea           126\n",
       "mammal            102\n",
       "primate            83\n",
       "rodent             59\n",
       "plasmid            18\n",
       "Name: Kingdom, dtype: int64"
      ]
     },
     "execution_count": 20,
     "metadata": {},
     "output_type": "execute_result"
    }
   ],
   "source": [
    "codon_usage_df.Kingdom.value_counts()"
   ]
  },
  {
   "cell_type": "code",
   "execution_count": 12,
   "id": "5eb23db5-76ce-4280-aa5e-d606c967455f",
   "metadata": {},
   "outputs": [
    {
     "data": {
      "text/html": [
       "<div>\n",
       "<style scoped>\n",
       "    .dataframe tbody tr th:only-of-type {\n",
       "        vertical-align: middle;\n",
       "    }\n",
       "\n",
       "    .dataframe tbody tr th {\n",
       "        vertical-align: top;\n",
       "    }\n",
       "\n",
       "    .dataframe thead th {\n",
       "        text-align: right;\n",
       "    }\n",
       "</style>\n",
       "<table border=\"1\" class=\"dataframe\">\n",
       "  <thead>\n",
       "    <tr style=\"text-align: right;\">\n",
       "      <th></th>\n",
       "      <th>Mean</th>\n",
       "      <th>Median</th>\n",
       "      <th>Max</th>\n",
       "      <th>Min</th>\n",
       "    </tr>\n",
       "  </thead>\n",
       "  <tbody>\n",
       "    <tr>\n",
       "      <th>archaea</th>\n",
       "      <td>225434</td>\n",
       "      <td>12164</td>\n",
       "      <td>1420978</td>\n",
       "      <td>1050</td>\n",
       "    </tr>\n",
       "    <tr>\n",
       "      <th>bacteria</th>\n",
       "      <td>199353</td>\n",
       "      <td>6674</td>\n",
       "      <td>4100487</td>\n",
       "      <td>1000</td>\n",
       "    </tr>\n",
       "    <tr>\n",
       "      <th>bacteriophage</th>\n",
       "      <td>10251</td>\n",
       "      <td>2379</td>\n",
       "      <td>114247</td>\n",
       "      <td>1008</td>\n",
       "    </tr>\n",
       "    <tr>\n",
       "      <th>chloroplast</th>\n",
       "      <td>5469</td>\n",
       "      <td>1324</td>\n",
       "      <td>100238</td>\n",
       "      <td>1000</td>\n",
       "    </tr>\n",
       "    <tr>\n",
       "      <th>invertebrate</th>\n",
       "      <td>71783</td>\n",
       "      <td>3480</td>\n",
       "      <td>21945319</td>\n",
       "      <td>1000</td>\n",
       "    </tr>\n",
       "    <tr>\n",
       "      <th>mammal</th>\n",
       "      <td>85131</td>\n",
       "      <td>2594</td>\n",
       "      <td>5198458</td>\n",
       "      <td>1001</td>\n",
       "    </tr>\n",
       "    <tr>\n",
       "      <th>mitochondria</th>\n",
       "      <td>7666</td>\n",
       "      <td>2388</td>\n",
       "      <td>8998998</td>\n",
       "      <td>1003</td>\n",
       "    </tr>\n",
       "    <tr>\n",
       "      <th>plant</th>\n",
       "      <td>96051</td>\n",
       "      <td>3218</td>\n",
       "      <td>34132283</td>\n",
       "      <td>1000</td>\n",
       "    </tr>\n",
       "    <tr>\n",
       "      <th>plasmid</th>\n",
       "      <td>12596</td>\n",
       "      <td>14924</td>\n",
       "      <td>28138</td>\n",
       "      <td>1164</td>\n",
       "    </tr>\n",
       "    <tr>\n",
       "      <th>primate</th>\n",
       "      <td>536318</td>\n",
       "      <td>2627</td>\n",
       "      <td>40662582</td>\n",
       "      <td>1033</td>\n",
       "    </tr>\n",
       "    <tr>\n",
       "      <th>rodent</th>\n",
       "      <td>554778</td>\n",
       "      <td>4210</td>\n",
       "      <td>24533776</td>\n",
       "      <td>1009</td>\n",
       "    </tr>\n",
       "    <tr>\n",
       "      <th>vertebrate</th>\n",
       "      <td>52335</td>\n",
       "      <td>2788</td>\n",
       "      <td>8042248</td>\n",
       "      <td>1009</td>\n",
       "    </tr>\n",
       "    <tr>\n",
       "      <th>virus</th>\n",
       "      <td>24992</td>\n",
       "      <td>2842</td>\n",
       "      <td>16473114</td>\n",
       "      <td>1001</td>\n",
       "    </tr>\n",
       "  </tbody>\n",
       "</table>\n",
       "</div>"
      ],
      "text/plain": [
       "                 Mean  Median       Max   Min\n",
       "archaea        225434   12164   1420978  1050\n",
       "bacteria       199353    6674   4100487  1000\n",
       "bacteriophage   10251    2379    114247  1008\n",
       "chloroplast      5469    1324    100238  1000\n",
       "invertebrate    71783    3480  21945319  1000\n",
       "mammal          85131    2594   5198458  1001\n",
       "mitochondria     7666    2388   8998998  1003\n",
       "plant           96051    3218  34132283  1000\n",
       "plasmid         12596   14924     28138  1164\n",
       "primate        536318    2627  40662582  1033\n",
       "rodent         554778    4210  24533776  1009\n",
       "vertebrate      52335    2788   8042248  1009\n",
       "virus           24992    2842  16473114  1001"
      ]
     },
     "execution_count": 12,
     "metadata": {},
     "output_type": "execute_result"
    }
   ],
   "source": [
    "mean_dict = dict(codon_usage_df.groupby(['Kingdom'])['Ncodons'].agg('mean').round())\n",
    "median_dict = dict(codon_usage_df.groupby(['Kingdom'])['Ncodons'].agg('median').round())\n",
    "max_dict = dict(codon_usage_df.groupby(['Kingdom'])['Ncodons'].agg('max').round())\n",
    "min_dict = dict(codon_usage_df.groupby(['Kingdom'])['Ncodons'].agg('min').round())\n",
    "\n",
    "pd.concat([pd.Series(mean_dict, name='Mean'),\n",
    "           pd.Series(median_dict, name='Median'),\n",
    "           pd.Series(max_dict, name='Max'),\n",
    "           pd.Series(min_dict, name='Min')],\n",
    "           axis=1).astype(int)"
   ]
  },
  {
   "cell_type": "code",
   "execution_count": null,
   "id": "7744770a-1cad-40b6-8272-4135b9637c5d",
   "metadata": {},
   "outputs": [],
   "source": []
  },
  {
   "cell_type": "code",
   "execution_count": null,
   "id": "2ec2c337-13b8-4628-899f-c23a6e6a710f",
   "metadata": {},
   "outputs": [],
   "source": []
  },
  {
   "cell_type": "code",
   "execution_count": null,
   "id": "04cb84b0-0526-4840-ab0f-3656ee4a311f",
   "metadata": {},
   "outputs": [],
   "source": []
  }
 ],
 "metadata": {
  "kernelspec": {
   "display_name": "Python 3 (ipykernel)",
   "language": "python",
   "name": "python3"
  },
  "language_info": {
   "codemirror_mode": {
    "name": "ipython",
    "version": 3
   },
   "file_extension": ".py",
   "mimetype": "text/x-python",
   "name": "python",
   "nbconvert_exporter": "python",
   "pygments_lexer": "ipython3",
   "version": "3.9.5"
  }
 },
 "nbformat": 4,
 "nbformat_minor": 5
}
